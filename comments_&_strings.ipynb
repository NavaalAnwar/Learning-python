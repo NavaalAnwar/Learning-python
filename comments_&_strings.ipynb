{
  "nbformat": 4,
  "nbformat_minor": 0,
  "metadata": {
    "colab": {
      "provenance": []
    },
    "kernelspec": {
      "name": "python3",
      "display_name": "Python 3"
    },
    "language_info": {
      "name": "python"
    }
  },
  "cells": [
    {
      "cell_type": "markdown",
      "source": [
        "#Qoutes in Python\n",
        "**double qoutes**"
      ],
      "metadata": {
        "id": "QUa48Sz7aiYz"
      }
    },
    {
      "cell_type": "code",
      "execution_count": 4,
      "metadata": {
        "colab": {
          "base_uri": "https://localhost:8080/"
        },
        "id": "07xgp6izNh-4",
        "outputId": "c8034e2d-3c32-4968-ab91-1332cb4f4894"
      },
      "outputs": [
        {
          "output_type": "stream",
          "name": "stdout",
          "text": [
            "Hello World\n"
          ]
        }
      ],
      "source": [
        "message = str(\"Hello World\")\n",
        "print(message)"
      ]
    },
    {
      "cell_type": "markdown",
      "source": [
        "Another Example:"
      ],
      "metadata": {
        "id": "dOuRJ-f3bC7_"
      }
    },
    {
      "cell_type": "code",
      "source": [
        "message: str = \"Hello World\"\n",
        "print(message)"
      ],
      "metadata": {
        "colab": {
          "base_uri": "https://localhost:8080/"
        },
        "id": "wwI4dzhHbHjk",
        "outputId": "c2006bee-6fb2-484d-d2a6-ef945e925e52"
      },
      "execution_count": 5,
      "outputs": [
        {
          "output_type": "stream",
          "name": "stdout",
          "text": [
            "Hello World\n"
          ]
        }
      ]
    },
    {
      "cell_type": "markdown",
      "source": [
        "**Triple single Qoutes**"
      ],
      "metadata": {
        "id": "mpOsptfebTU2"
      }
    },
    {
      "cell_type": "code",
      "source": [
        "equation:str = '''x+ab+b'''\n",
        "print(equation)"
      ],
      "metadata": {
        "colab": {
          "base_uri": "https://localhost:8080/"
        },
        "id": "I4W7y4dXbjgO",
        "outputId": "3aa521bc-e1ab-424d-bf47-0c291e2cd0c7"
      },
      "execution_count": 6,
      "outputs": [
        {
          "output_type": "stream",
          "name": "stdout",
          "text": [
            "x+ab+b\n"
          ]
        }
      ]
    },
    {
      "cell_type": "markdown",
      "source": [
        "Another Example:"
      ],
      "metadata": {
        "id": "8fElSBpVb5Ld"
      }
    },
    {
      "cell_type": "code",
      "source": [
        "equation =str('''x+ab+b''')\n",
        "print(equation)"
      ],
      "metadata": {
        "colab": {
          "base_uri": "https://localhost:8080/"
        },
        "id": "MUB1Rktgb66O",
        "outputId": "7fbddfd7-d5a0-405b-a657-1a273575b3ad"
      },
      "execution_count": 7,
      "outputs": [
        {
          "output_type": "stream",
          "name": "stdout",
          "text": [
            "x+ab+b\n"
          ]
        }
      ]
    },
    {
      "cell_type": "markdown",
      "source": [
        "**Triple Double Qoutes**"
      ],
      "metadata": {
        "id": "c7qprhqgcGMI"
      }
    },
    {
      "cell_type": "code",
      "source": [
        "name: str = \"\"\"ALexa\"\"\"\n",
        "print(name)"
      ],
      "metadata": {
        "colab": {
          "base_uri": "https://localhost:8080/"
        },
        "id": "LXgMV7oXcNnu",
        "outputId": "591b5e06-5628-4a0f-b0fe-e3bde0bd6d64"
      },
      "execution_count": 8,
      "outputs": [
        {
          "output_type": "stream",
          "name": "stdout",
          "text": [
            "ALexa\n"
          ]
        }
      ]
    },
    {
      "cell_type": "markdown",
      "source": [
        "Another Example:"
      ],
      "metadata": {
        "id": "QSZiXTYDc7Mw"
      }
    },
    {
      "cell_type": "code",
      "source": [
        "name = str(\"\"\"Alexa\"\"\")\n",
        "print(name)"
      ],
      "metadata": {
        "colab": {
          "base_uri": "https://localhost:8080/"
        },
        "id": "RcETzH7yc84j",
        "outputId": "50f5705b-6d7c-4c93-b3ae-d50e9e2c10de"
      },
      "execution_count": 9,
      "outputs": [
        {
          "output_type": "stream",
          "name": "stdout",
          "text": [
            "Alexa\n"
          ]
        }
      ]
    },
    {
      "cell_type": "markdown",
      "source": [
        "#Strings"
      ],
      "metadata": {
        "id": "9fNL-I_FdIHf"
      }
    },
    {
      "cell_type": "markdown",
      "source": [
        "**Using %s & %d**"
      ],
      "metadata": {
        "id": "EBDih1PNdMZT"
      }
    },
    {
      "cell_type": "code",
      "source": [
        "name = \"Navaal\"\n",
        "age = int(\"23\") # this is an integer\n",
        "print(\"My name is %s. I am %d years old\" %(name, age))"
      ],
      "metadata": {
        "colab": {
          "base_uri": "https://localhost:8080/"
        },
        "id": "TJ3yctRldKzj",
        "outputId": "55da1ca1-5c4d-44c2-b817-b2152d5d1af2"
      },
      "execution_count": 20,
      "outputs": [
        {
          "output_type": "stream",
          "name": "stdout",
          "text": [
            "My name is Navaal. I am 23 years old\n"
          ]
        }
      ]
    },
    {
      "cell_type": "markdown",
      "source": [
        "While using %s and %d we need to declare int for a number if we are defining number as an age or something other if we do not declare INT then it will give a type error like shown below"
      ],
      "metadata": {
        "id": "TDa5ExZIgKTl"
      }
    },
    {
      "cell_type": "code",
      "source": [
        "name = \"Navaal\"\n",
        "age = \"23\"\n",
        "print(\"My name is %s. I am %d years old\" %(name, age))"
      ],
      "metadata": {
        "colab": {
          "base_uri": "https://localhost:8080/",
          "height": 176
        },
        "id": "WitedZLvgwPF",
        "outputId": "d8046a70-5e68-4654-ab26-4cbab4a72ad3"
      },
      "execution_count": 22,
      "outputs": [
        {
          "output_type": "error",
          "ename": "TypeError",
          "evalue": "%d format: a real number is required, not str",
          "traceback": [
            "\u001b[0;31m---------------------------------------------------------------------------\u001b[0m",
            "\u001b[0;31mTypeError\u001b[0m                                 Traceback (most recent call last)",
            "\u001b[0;32m<ipython-input-22-c3ee99e1eaf5>\u001b[0m in \u001b[0;36m<cell line: 3>\u001b[0;34m()\u001b[0m\n\u001b[1;32m      1\u001b[0m \u001b[0mname\u001b[0m \u001b[0;34m=\u001b[0m \u001b[0;34m\"Navaal\"\u001b[0m\u001b[0;34m\u001b[0m\u001b[0;34m\u001b[0m\u001b[0m\n\u001b[1;32m      2\u001b[0m \u001b[0mage\u001b[0m \u001b[0;34m=\u001b[0m \u001b[0;34m\"23\"\u001b[0m\u001b[0;34m\u001b[0m\u001b[0;34m\u001b[0m\u001b[0m\n\u001b[0;32m----> 3\u001b[0;31m \u001b[0mprint\u001b[0m\u001b[0;34m(\u001b[0m\u001b[0;34m\"My name is %s. I am %d years old\"\u001b[0m \u001b[0;34m%\u001b[0m\u001b[0;34m(\u001b[0m\u001b[0mname\u001b[0m\u001b[0;34m,\u001b[0m \u001b[0mage\u001b[0m\u001b[0;34m)\u001b[0m\u001b[0;34m)\u001b[0m\u001b[0;34m\u001b[0m\u001b[0;34m\u001b[0m\u001b[0m\n\u001b[0m",
            "\u001b[0;31mTypeError\u001b[0m: %d format: a real number is required, not str"
          ]
        }
      ]
    },
    {
      "cell_type": "markdown",
      "source": [
        "the reason of this error is we donot declare that age is INT so the compiler take it as string so if we place %s at the place of %d the code will be compile lets check this out"
      ],
      "metadata": {
        "id": "XL4Y2m5pg48H"
      }
    },
    {
      "cell_type": "code",
      "source": [
        "name = \"Navaal\"\n",
        "age = \"23\" # this is an integer\n",
        "print(\"My name is %s. I am %s years old\" %(name, age))"
      ],
      "metadata": {
        "colab": {
          "base_uri": "https://localhost:8080/"
        },
        "id": "aGxO2h6_hQBt",
        "outputId": "9d150d7c-ef71-48fb-a56d-0366322bdc5c"
      },
      "execution_count": 24,
      "outputs": [
        {
          "output_type": "stream",
          "name": "stdout",
          "text": [
            "My name is Navaal. I am 23 years old\n"
          ]
        }
      ]
    },
    {
      "cell_type": "markdown",
      "source": [
        "**using of formating()**"
      ],
      "metadata": {
        "id": "Cpr-MfWWhTFV"
      }
    },
    {
      "cell_type": "markdown",
      "source": [
        "This is another method of formating strings we can use (),{},[], formating our string\n"
      ],
      "metadata": {
        "id": "JMvFKzCrji4G"
      }
    },
    {
      "cell_type": "code",
      "source": [
        "name = \"Lisa\"\n",
        "age = \"20\"\n",
        "print(\"My name is () and i am () years old\" .format(name, age))"
      ],
      "metadata": {
        "colab": {
          "base_uri": "https://localhost:8080/"
        },
        "id": "d77aUBM6jGa6",
        "outputId": "9d3672b2-adf5-4397-b393-694ca5637b33"
      },
      "execution_count": 28,
      "outputs": [
        {
          "output_type": "stream",
          "name": "stdout",
          "text": [
            "My name is [] and i am [] years old\n"
          ]
        }
      ]
    },
    {
      "cell_type": "code",
      "source": [
        "name = \"Lisa\"\n",
        "age = \"20\"\n",
        "print(\"My name is {} and i am {} years old\" .format(name, age))"
      ],
      "metadata": {
        "colab": {
          "base_uri": "https://localhost:8080/"
        },
        "id": "klmXEu7MkFa1",
        "outputId": "b5fc7025-4a54-42dd-f038-2796325173da"
      },
      "execution_count": 29,
      "outputs": [
        {
          "output_type": "stream",
          "name": "stdout",
          "text": [
            "My name is Lisa and i am 20 years old\n"
          ]
        }
      ]
    },
    {
      "cell_type": "code",
      "source": [
        "name = \"Lisa\"\n",
        "age = \"20\"\n",
        "print(\"My name is [] and i am [] years old\" .format(name, age))"
      ],
      "metadata": {
        "colab": {
          "base_uri": "https://localhost:8080/"
        },
        "id": "y9LENQUMkLRR",
        "outputId": "6b821c11-ad36-4579-b79c-407cc751bdf3"
      },
      "execution_count": 30,
      "outputs": [
        {
          "output_type": "stream",
          "name": "stdout",
          "text": [
            "My name is [] and i am [] years old\n"
          ]
        }
      ]
    },
    {
      "cell_type": "markdown",
      "source": [
        "**Using f-string**\n"
      ],
      "metadata": {
        "id": "X8u5VsKPkM-w"
      }
    },
    {
      "cell_type": "markdown",
      "source": [
        "this format of formating string makes the code more clear and readable"
      ],
      "metadata": {
        "id": "c012Kvl6lsFa"
      }
    },
    {
      "cell_type": "code",
      "source": [
        "name = \"Eric\"\n",
        "age = \"25\"\n",
        "print(f\"My name is {name} and i am {age} years old\")"
      ],
      "metadata": {
        "colab": {
          "base_uri": "https://localhost:8080/"
        },
        "id": "Kz_jJlRlkiZR",
        "outputId": "352cc40d-e3e1-49fa-ca85-2cfedc9b9e27"
      },
      "execution_count": 32,
      "outputs": [
        {
          "output_type": "stream",
          "name": "stdout",
          "text": [
            "My name is Eric and i am 25 years old\n"
          ]
        }
      ]
    },
    {
      "cell_type": "markdown",
      "source": [
        "#Naming convention"
      ],
      "metadata": {
        "id": "3N9Yr9A4nJjm"
      }
    },
    {
      "cell_type": "markdown",
      "source": [
        "There are few naming cnventions that are used to make more readable code and to style for guiders. Those conventions named bellow:\n",
        "\n",
        "\n",
        "*   Snake Case\n",
        "*   Camel Case\n",
        "*   Pascal case\n",
        "*   Upper Snake Case\n",
        "\n",
        "\n",
        "\n",
        "\n"
      ],
      "metadata": {
        "id": "YPyjyvffnL1B"
      }
    },
    {
      "cell_type": "markdown",
      "source": [
        "**1. Snake Case**"
      ],
      "metadata": {
        "id": "jeEzZUmvnOZi"
      }
    },
    {
      "cell_type": "code",
      "source": [
        "my_variable_name = \"Bird\"\n",
        "print(my_variable_name)"
      ],
      "metadata": {
        "colab": {
          "base_uri": "https://localhost:8080/"
        },
        "id": "gZAbuAeToE7p",
        "outputId": "fe8c0f80-c9a3-4890-c8e7-2003c7ac62f0"
      },
      "execution_count": 33,
      "outputs": [
        {
          "output_type": "stream",
          "name": "stdout",
          "text": [
            "Bird\n"
          ]
        }
      ]
    },
    {
      "cell_type": "markdown",
      "source": [
        "**2. Camel Case**"
      ],
      "metadata": {
        "id": "zj1lZrhKpdvF"
      }
    },
    {
      "cell_type": "code",
      "source": [
        "myVariableName = \"Animal\"\n",
        "print(\"myVariableName\")"
      ],
      "metadata": {
        "colab": {
          "base_uri": "https://localhost:8080/"
        },
        "id": "kxHCLWeLpgDW",
        "outputId": "fbc5cf81-ecbd-4445-88bf-bb5c211e59d4"
      },
      "execution_count": 34,
      "outputs": [
        {
          "output_type": "stream",
          "name": "stdout",
          "text": [
            "myVariableName\n"
          ]
        }
      ]
    },
    {
      "cell_type": "markdown",
      "source": [
        "**3. Pascal Case**"
      ],
      "metadata": {
        "id": "lXiiF9BVpyLo"
      }
    },
    {
      "cell_type": "code",
      "source": [
        "MyVariableCase = \"Insects\"\n",
        "print(MyVariableCase)"
      ],
      "metadata": {
        "colab": {
          "base_uri": "https://localhost:8080/"
        },
        "id": "oV8nmloGp0um",
        "outputId": "38aef34b-a7ac-483f-dd3e-53e8f7e8a292"
      },
      "execution_count": 35,
      "outputs": [
        {
          "output_type": "stream",
          "name": "stdout",
          "text": [
            "Insects\n"
          ]
        }
      ]
    },
    {
      "cell_type": "markdown",
      "source": [
        "**4. Upper Snake Case**"
      ],
      "metadata": {
        "id": "837umt20qIXO"
      }
    },
    {
      "cell_type": "code",
      "source": [
        "MY_VARIABLE_NAME = \"Bird\"\n",
        "print(MY_VARIABLE_NAME)"
      ],
      "metadata": {
        "colab": {
          "base_uri": "https://localhost:8080/"
        },
        "id": "SJvwAbV0qN38",
        "outputId": "94f13921-89cc-4c74-ce94-de3a4e882d4c"
      },
      "execution_count": 38,
      "outputs": [
        {
          "output_type": "stream",
          "name": "stdout",
          "text": [
            "Bird\n"
          ]
        }
      ]
    }
  ]
}
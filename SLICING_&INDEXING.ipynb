{
  "nbformat": 4,
  "nbformat_minor": 0,
  "metadata": {
    "colab": {
      "provenance": []
    },
    "kernelspec": {
      "name": "python3",
      "display_name": "Python 3"
    },
    "language_info": {
      "name": "python"
    }
  },
  "cells": [
    {
      "cell_type": "markdown",
      "source": [
        "#Slicing"
      ],
      "metadata": {
        "id": "O-Nj9T7j9kp0"
      }
    },
    {
      "cell_type": "code",
      "execution_count": null,
      "metadata": {
        "colab": {
          "base_uri": "https://localhost:8080/"
        },
        "id": "PYLcYFAF9dlP",
        "outputId": "dbe84294-f9a8-447e-e148-5e327e6a26cd"
      },
      "outputs": [
        {
          "output_type": "stream",
          "name": "stdout",
          "text": [
            "['bnanana', 'orange']\n"
          ]
        }
      ],
      "source": [
        "fruits = [\"apple\", \"bnanana\", \"orange\", \"grapes\"]\n",
        "print(fruits[1:3])"
      ]
    },
    {
      "cell_type": "markdown",
      "source": [
        "#Indexing"
      ],
      "metadata": {
        "id": "tN5Pl9YWFo2P"
      }
    },
    {
      "cell_type": "markdown",
      "source": [
        "**Negative Indexing**"
      ],
      "metadata": {
        "id": "otXfxdC6FxYV"
      }
    },
    {
      "cell_type": "code",
      "source": [
        "print(fruits[-3])"
      ],
      "metadata": {
        "colab": {
          "base_uri": "https://localhost:8080/"
        },
        "id": "RsbhzFoJ-BEr",
        "outputId": "fb31406c-9117-4524-de2d-f283ee03a770"
      },
      "execution_count": null,
      "outputs": [
        {
          "output_type": "stream",
          "name": "stdout",
          "text": [
            "bnanana\n"
          ]
        }
      ]
    },
    {
      "cell_type": "markdown",
      "source": [
        "**Positive indexing**"
      ],
      "metadata": {
        "id": "_Hggf4qfF0IU"
      }
    },
    {
      "cell_type": "code",
      "source": [
        "print(fruits[0])"
      ],
      "metadata": {
        "colab": {
          "base_uri": "https://localhost:8080/"
        },
        "id": "BE2TisvmFl5A",
        "outputId": "22a66b1f-d86b-4ee1-e35e-24447082a6e3"
      },
      "execution_count": null,
      "outputs": [
        {
          "output_type": "stream",
          "name": "stdout",
          "text": [
            "apple\n"
          ]
        }
      ]
    },
    {
      "cell_type": "markdown",
      "source": [
        "#Loops"
      ],
      "metadata": {
        "id": "XzBkoEH6GpuH"
      }
    },
    {
      "cell_type": "markdown",
      "source": [
        "**For Loop**"
      ],
      "metadata": {
        "id": "BPbBn4QOGs1H"
      }
    },
    {
      "cell_type": "code",
      "source": [
        "number = {\"1\", \"2\", \"3\", \"4\", \"5\"}\n",
        "for x in number:\n",
        "  print(x)"
      ],
      "metadata": {
        "colab": {
          "base_uri": "https://localhost:8080/"
        },
        "id": "NaR9EbKyGsHo",
        "outputId": "197ca804-973f-44c2-ef74-6a607ec82abb"
      },
      "execution_count": null,
      "outputs": [
        {
          "output_type": "stream",
          "name": "stdout",
          "text": [
            "4\n",
            "5\n",
            "3\n",
            "2\n",
            "1\n"
          ]
        }
      ]
    },
    {
      "cell_type": "markdown",
      "source": [
        "**else with for loop**"
      ],
      "metadata": {
        "id": "SYa1EHi-HqSK"
      }
    },
    {
      "cell_type": "code",
      "source": [
        "for x in range(3):\n",
        " print(x)\n",
        "else:\n",
        " print('finished')"
      ],
      "metadata": {
        "colab": {
          "base_uri": "https://localhost:8080/"
        },
        "id": "zcVnTV2DHSUU",
        "outputId": "79b89348-a0d6-477d-fae9-6263a0ab2825"
      },
      "execution_count": null,
      "outputs": [
        {
          "output_type": "stream",
          "name": "stdout",
          "text": [
            "0\n",
            "1\n",
            "2\n",
            "finished\n"
          ]
        }
      ]
    },
    {
      "cell_type": "markdown",
      "source": [
        "**List Comprehensions**"
      ],
      "metadata": {
        "id": "midQ0vQGkkvu"
      }
    },
    {
      "cell_type": "code",
      "source": [
        "fruits = [\"bnanana\",\"apple\",\"mango\",\"cherry\"]\n",
        "newlist = [x for x in fruits if \"a\" in x ]\n",
        "print(newlist)"
      ],
      "metadata": {
        "colab": {
          "base_uri": "https://localhost:8080/"
        },
        "id": "5vPMzGtwkrBi",
        "outputId": "84a7e4b9-4e9f-49eb-d46a-d6098cb223c8"
      },
      "execution_count": null,
      "outputs": [
        {
          "output_type": "stream",
          "name": "stdout",
          "text": [
            "['bnanana', 'apple', 'mango']\n"
          ]
        }
      ]
    },
    {
      "cell_type": "markdown",
      "source": [
        "**Tuples**"
      ],
      "metadata": {
        "id": "Jnp2LJEjnQNd"
      }
    },
    {
      "cell_type": "code",
      "source": [
        "my_tuples=[\"a\",\"b\",\"c\",\"d\"]\n",
        "print(my_tuples)"
      ],
      "metadata": {
        "colab": {
          "base_uri": "https://localhost:8080/"
        },
        "id": "19r8xQwanTtq",
        "outputId": "404a162e-4d8d-4f6f-9b13-2fb77ad78a08"
      },
      "execution_count": null,
      "outputs": [
        {
          "output_type": "stream",
          "name": "stdout",
          "text": [
            "['a', 'b', 'c', 'd']\n"
          ]
        }
      ]
    },
    {
      "cell_type": "markdown",
      "source": [
        "#IF-ELSEIF_STATEMENT"
      ],
      "metadata": {
        "id": "JE4PoyAWnl5U"
      }
    },
    {
      "cell_type": "markdown",
      "source": [
        "IF Statement"
      ],
      "metadata": {
        "id": "bO-K2ZfUnt3g"
      }
    },
    {
      "cell_type": "code",
      "source": [
        "x = int(\"4\")\n",
        "if x < 5:\n",
        "  print(\"x is greater than 5\")"
      ],
      "metadata": {
        "colab": {
          "base_uri": "https://localhost:8080/"
        },
        "id": "uns7w5qNnwGw",
        "outputId": "e69097db-b45f-4ca0-f2ed-647d1d2c7352"
      },
      "execution_count": null,
      "outputs": [
        {
          "output_type": "stream",
          "name": "stdout",
          "text": [
            "x is greater than 5\n"
          ]
        }
      ]
    },
    {
      "cell_type": "markdown",
      "source": [
        "**ELSEIF Statement**"
      ],
      "metadata": {
        "id": "84MQIRGUohv_"
      }
    },
    {
      "cell_type": "code",
      "source": [
        "x = int(\"4\")\n",
        "if x > 5:\n",
        "  print(\"x is greater than 5\")\n",
        "else:\n",
        "  print(\"x is less than 5\")"
      ],
      "metadata": {
        "colab": {
          "base_uri": "https://localhost:8080/"
        },
        "id": "im0r74zCok2q",
        "outputId": "45246b09-8bf1-4bee-b62f-a1b9cae21fbf"
      },
      "execution_count": null,
      "outputs": [
        {
          "output_type": "stream",
          "name": "stdout",
          "text": [
            "x is less than 5\n"
          ]
        }
      ]
    },
    {
      "cell_type": "markdown",
      "source": [
        "**If-Elif-Else Statement **"
      ],
      "metadata": {
        "id": "zQAyIpcOoty_"
      }
    },
    {
      "cell_type": "code",
      "source": [
        "x = int(\"4\")\n",
        "if x > 5:\n",
        "  print(\"x is greater than 5\")\n",
        "elif x==4:\n",
        "  print(\"x is equal to 4\")\n",
        "else:\n",
        "  print(\"x is less than 5\")"
      ],
      "metadata": {
        "colab": {
          "base_uri": "https://localhost:8080/"
        },
        "id": "PqmC0mRSowgv",
        "outputId": "93beda8c-a643-4922-a257-08fdc0396c56"
      },
      "execution_count": null,
      "outputs": [
        {
          "output_type": "stream",
          "name": "stdout",
          "text": [
            "x is equal to 4\n"
          ]
        }
      ]
    },
    {
      "cell_type": "markdown",
      "source": [
        "**Nested If-Else-Elif**"
      ],
      "metadata": {
        "id": "LodbismSqPim"
      }
    },
    {
      "cell_type": "code",
      "source": [
        "x = int(\"4\")\n",
        "y = int(\"5\")\n",
        "if x == y:\n",
        "   if x == y:\n",
        "     print(\"x and y both are equal\")\n",
        "   else :\n",
        "     print(\"Both x and y are not equal\")\n",
        "elif x < y:\n",
        "  print(\"x is less than y\")\n",
        "else :\n",
        "  print(\"y is greater than x\")"
      ],
      "metadata": {
        "colab": {
          "base_uri": "https://localhost:8080/"
        },
        "id": "xw5YykrbqSlh",
        "outputId": "6a48e8a1-1d4f-42fe-ed60-e415e5fb3111"
      },
      "execution_count": null,
      "outputs": [
        {
          "output_type": "stream",
          "name": "stdout",
          "text": [
            "x is less than y\n"
          ]
        }
      ]
    },
    {
      "cell_type": "markdown",
      "source": [
        "**Zipped with list**"
      ],
      "metadata": {
        "id": "O7_FMhdSxB5f"
      }
    },
    {
      "cell_type": "code",
      "source": [
        "name:list[str] = [\"amna\",\"bisma\", \"farhat\"]\n",
        "age:list[int] = [\"20\", \"23\", \"19\"]\n",
        "zipped = zip(name,age)\n",
        "for name, age in zipped:\n",
        "   print(f\"{name} is {age} years old\")"
      ],
      "metadata": {
        "colab": {
          "base_uri": "https://localhost:8080/"
        },
        "id": "HzRcravzxIy_",
        "outputId": "51addfeb-f3b7-4e9d-ce8b-2170b0e1129c"
      },
      "execution_count": null,
      "outputs": [
        {
          "output_type": "stream",
          "name": "stdout",
          "text": [
            "amna is 20 years old\n",
            "bisma is 23 years old\n",
            "farhat is 19 years old\n"
          ]
        }
      ]
    },
    {
      "cell_type": "markdown",
      "source": [
        "#Dictionary"
      ],
      "metadata": {
        "id": "8bzhJXWLzGIN"
      }
    },
    {
      "cell_type": "code",
      "source": [
        "squared_numbers = {i: i**2 for i in range(5)}"
      ],
      "metadata": {
        "id": "6w72iQ5hzE78"
      },
      "execution_count": null,
      "outputs": []
    },
    {
      "cell_type": "code",
      "source": [
        "from typing import Dict, Union, Optional\n",
        "import pprint\n",
        "\n",
        "Key = Union[int,str] # create custom type\n",
        "Value = Union[int, str, list, dict, tuple, set]\n",
        "\n",
        "# List                    0                1            2\n",
        "data : Dict[Key,Value] = {\n",
        "                        \"fname\":\"Muhammad Aslam\",\n",
        "                        \"name\":\"Muhammad Qasim\",\n",
        "                        \"education\": \"MSDS\",\n",
        "                        0 : \"Pakistan\"\n",
        "                        }\n",
        "\n",
        "pprint.pprint(data)\n",
        "print(data[\"name\"])\n",
        "print(data['fname'])\n",
        "print(data['education'])\n",
        "print(data[0]) # index = key"
      ],
      "metadata": {
        "colab": {
          "base_uri": "https://localhost:8080/"
        },
        "id": "M_e0CLwP_cRc",
        "outputId": "ae314daf-1085-4f21-c9fc-3375f2e90e7a"
      },
      "execution_count": null,
      "outputs": [
        {
          "output_type": "stream",
          "name": "stdout",
          "text": [
            "{0: 'Pakistan',\n",
            " 'education': 'MSDS',\n",
            " 'fname': 'Muhammad Aslam',\n",
            " 'name': 'Muhammad Qasim'}\n",
            "Muhammad Qasim\n",
            "Muhammad Aslam\n",
            "MSDS\n",
            "Pakistan\n"
          ]
        }
      ]
    },
    {
      "cell_type": "code",
      "source": [
        "def modify_value(num: int):\n",
        "    print(\"Inside function (before modification):\", id(num))\n",
        "    num = 10\n",
        "    print(\"Inside function (after modification):\", id(num))\n",
        "\n",
        "x = 5\n",
        "print(\"Before function call:\", id(x))\n",
        "modify_value(x)\n",
        "print(\"After function call:\", id(x))"
      ],
      "metadata": {
        "colab": {
          "base_uri": "https://localhost:8080/"
        },
        "id": "gNYylbv0AIq8",
        "outputId": "bd9b60a9-a701-4cdc-d26f-b3bef62bc003"
      },
      "execution_count": null,
      "outputs": [
        {
          "output_type": "stream",
          "name": "stdout",
          "text": [
            "Before function call: 135665705091440\n",
            "Inside function (before modification): 135665705091440\n",
            "Inside function (after modification): 135665705091600\n",
            "After function call: 135665705091440\n"
          ]
        }
      ]
    },
    {
      "cell_type": "code",
      "source": [
        "def modify_list(lst: list):\n",
        "    print(\"Inside function (before modification):\", id(lst))\n",
        "    lst.append(4)\n",
        "    print(\"Inside function (after modification):\", id(lst))\n",
        "\n",
        "my_list = [1, 2, 3]\n",
        "print(\"Before function call:\", id(my_list))\n",
        "modify_list(my_list)\n",
        "print(\"After function call:\", id(my_list))"
      ],
      "metadata": {
        "id": "RrYOuy0AEpsc",
        "outputId": "9d9a4dab-5050-480d-9c21-d0ebb1ab879e",
        "colab": {
          "base_uri": "https://localhost:8080/"
        }
      },
      "execution_count": null,
      "outputs": [
        {
          "output_type": "stream",
          "name": "stdout",
          "text": [
            "Before function call: 135664421702976\n",
            "Inside function (before modification): 135664421702976\n",
            "Inside function (after modification): 135664421702976\n",
            "After function call: 135664421702976\n"
          ]
        }
      ]
    },
    {
      "cell_type": "code",
      "source": [
        "my_list = [1, 2, 3]\n",
        "print(\"Before modification:\", my_list, \"id:\", id(my_list))\n",
        "my_list.append(4)\n",
        "print(\"After modification:\", my_list, \"id:\", id(my_list))"
      ],
      "metadata": {
        "colab": {
          "base_uri": "https://localhost:8080/"
        },
        "id": "dec2CWrhb3oS",
        "outputId": "846f1ac0-254a-480a-b942-4c62111beac4"
      },
      "execution_count": null,
      "outputs": [
        {
          "output_type": "stream",
          "name": "stdout",
          "text": [
            "Before modification: [1, 2, 3] id: 138730213793600\n",
            "After modification: [1, 2, 3, 4] id: 138730213793600\n"
          ]
        }
      ]
    },
    {
      "cell_type": "code",
      "source": [
        "my_string = \"hello\"\n",
        "print(\"Before modification:\", my_string, \"id:\", id(my_string))\n",
        "my_string = my_string + \" world\"\n",
        "print(\"After modification:\", my_string, \"id:\", id(my_string))\n"
      ],
      "metadata": {
        "colab": {
          "base_uri": "https://localhost:8080/"
        },
        "id": "-gMLBHMxcP5B",
        "outputId": "1c165766-de10-4c9f-b334-383d586a2c56"
      },
      "execution_count": null,
      "outputs": [
        {
          "output_type": "stream",
          "name": "stdout",
          "text": [
            "Before modification: hello id: 138730203322096\n",
            "After modification: hello world id: 138730199755248\n"
          ]
        }
      ]
    },
    {
      "cell_type": "code",
      "source": [
        "try:\n",
        "    numerator = 10\n",
        "    denominator = 2\n",
        "    result = numerator / denominator\n",
        "except ZeroDivisionError as e:\n",
        "    print(\"Caught a ZeroDivisionError:\", str(e))\n",
        "else:\n",
        "    print(\"Division successful:\", result)\n",
        "finally:\n",
        "    print(\"This block is always executed\")"
      ],
      "metadata": {
        "colab": {
          "base_uri": "https://localhost:8080/"
        },
        "id": "qclAwslJdnny",
        "outputId": "acdc5b70-cde3-44f7-8a8e-141ede4dd889"
      },
      "execution_count": null,
      "outputs": [
        {
          "output_type": "stream",
          "name": "stdout",
          "text": [
            "Division successful: 5.0\n",
            "This block is always executed\n"
          ]
        }
      ]
    },
    {
      "cell_type": "code",
      "source": [
        "def divide(a: float, b: float) -> float:\n",
        "    try:\n",
        "        result = a / b\n",
        "    except ZeroDivisionError:\n",
        "        print(\"Cannot divide by zero!\")\n",
        "        return 0.0\n",
        "    else:\n",
        "        print(\"Division successful\")\n",
        "        return result"
      ],
      "metadata": {
        "id": "ewAsmYNJd29y"
      },
      "execution_count": null,
      "outputs": []
    },
    {
      "cell_type": "code",
      "source": [
        "def divide(a: float, b: float) -> float:\n",
        "    try:\n",
        "        result = a / b\n",
        "    except ZeroDivisionError:\n",
        "        print(\"Cannot divide by zero!\")\n",
        "        return 0.0\n",
        "    else:\n",
        "        print(\"Division successful\")\n",
        "        return result\n"
      ],
      "metadata": {
        "id": "OYeCuk2hfO38"
      },
      "execution_count": null,
      "outputs": []
    },
    {
      "cell_type": "code",
      "source": [
        "age = divide(2.3,1.0)\n",
        "print(age)"
      ],
      "metadata": {
        "colab": {
          "base_uri": "https://localhost:8080/"
        },
        "id": "6QcVodY5qn36",
        "outputId": "1bf4fe0d-9911-4a6f-f342-a34fa80b3392"
      },
      "execution_count": null,
      "outputs": [
        {
          "output_type": "stream",
          "name": "stdout",
          "text": [
            "Division successful\n",
            "2.3\n"
          ]
        }
      ]
    },
    {
      "cell_type": "code",
      "source": [
        "def convert_to_int(value: str) -> int:\n",
        "    try:\n",
        "        return int(value)\n",
        "    except ValueError:\n",
        "        print(\"Invalid integer!\")\n",
        "        return 0\n",
        "    except TypeError:\n",
        "        print(\"Value must be a string!\")\n",
        "        return 0"
      ],
      "metadata": {
        "id": "p3el_OSdfPdM"
      },
      "execution_count": null,
      "outputs": []
    },
    {
      "cell_type": "code",
      "source": [
        "age = convert_to_int('78')"
      ],
      "metadata": {
        "colab": {
          "base_uri": "https://localhost:8080/"
        },
        "id": "JdefA-15ozKx",
        "outputId": "2d0ea222-c83f-47bf-d615-2cb1f319984a"
      },
      "execution_count": null,
      "outputs": [
        {
          "output_type": "execute_result",
          "data": {
            "text/plain": [
              "78"
            ]
          },
          "metadata": {},
          "execution_count": 25
        }
      ]
    },
    {
      "cell_type": "code",
      "source": [
        "age=input(\"enter your age\")"
      ],
      "metadata": {
        "colab": {
          "base_uri": "https://localhost:8080/"
        },
        "id": "abBJRKIrpHcE",
        "outputId": "0dde41e4-76e9-4921-c586-472c345289c9"
      },
      "execution_count": null,
      "outputs": [
        {
          "name": "stdout",
          "output_type": "stream",
          "text": [
            "enter your age12\n"
          ]
        }
      ]
    },
    {
      "cell_type": "code",
      "source": [
        "print(age)"
      ],
      "metadata": {
        "colab": {
          "base_uri": "https://localhost:8080/"
        },
        "id": "M3mYSO_apWxs",
        "outputId": "9eee5cb5-de72-4d48-9c7c-f8aff630bd41"
      },
      "execution_count": null,
      "outputs": [
        {
          "output_type": "stream",
          "name": "stdout",
          "text": [
            "12\n"
          ]
        }
      ]
    },
    {
      "cell_type": "code",
      "source": [
        "print(type(age))"
      ],
      "metadata": {
        "colab": {
          "base_uri": "https://localhost:8080/"
        },
        "id": "O4C_JwqXpZj8",
        "outputId": "bb4aa80c-8f66-4cbe-b27b-3a72593f574e"
      },
      "execution_count": null,
      "outputs": [
        {
          "output_type": "stream",
          "name": "stdout",
          "text": [
            "<class 'str'>\n"
          ]
        }
      ]
    },
    {
      "cell_type": "code",
      "source": [
        "class NegativeValueError(Exception):\n",
        "    def __str__(self) -> str:\n",
        "        return \"Value cannot be negative\"\n",
        "\n",
        "def sqrt(value: float) -> float:\n",
        "    if value > 0:\n",
        "      print(\"the value is\")\n",
        "      return value ** 0.5"
      ],
      "metadata": {
        "id": "TekF6YVDhPDc"
      },
      "execution_count": null,
      "outputs": []
    },
    {
      "cell_type": "code",
      "source": [
        "def dynamic_error_handling(value:) -> int:\n",
        "    try:\n",
        "        return int(value)\n",
        "    except Exception as e:\n",
        "        print(f\"An error occurred: {str(e)}\")\n",
        "        return 0"
      ],
      "metadata": {
        "id": "dlha5XC-ivYt"
      },
      "execution_count": null,
      "outputs": []
    },
    {
      "cell_type": "code",
      "source": [
        "age = dynamic_error_handling(\"twenty\")\n",
        "print(age)"
      ],
      "metadata": {
        "colab": {
          "base_uri": "https://localhost:8080/"
        },
        "id": "7C8oq_IfsTcT",
        "outputId": "a6baac5b-1c5f-47ae-fd9b-50801f2fcd01"
      },
      "execution_count": null,
      "outputs": [
        {
          "output_type": "stream",
          "name": "stdout",
          "text": [
            "An error occurred: invalid literal for int() with base 10: 'twenty'\n",
            "0\n"
          ]
        }
      ]
    },
    {
      "cell_type": "code",
      "source": [
        "class Dog:\n",
        "    def __init__(self, name, age):\n",
        "        self.name = name  # Attribute\n",
        "        self.age = age    # Attribute\n",
        "\n",
        "    def bark(self):       # Method\n",
        "        print(\"Woof!\")"
      ],
      "metadata": {
        "id": "camuRkJdnBkg"
      },
      "execution_count": null,
      "outputs": []
    },
    {
      "cell_type": "code",
      "source": [
        "class Dog:\n",
        "    def __init__(self, name, age):\n",
        "        self.name = name  # Attribute\n",
        "        self.age = age    # Attribute\n",
        "\n",
        "    def bark(self):       # Method\n",
        "        print(\"Woof!\")"
      ],
      "metadata": {
        "id": "7ya21EdEnCN4"
      },
      "execution_count": null,
      "outputs": []
    },
    {
      "cell_type": "code",
      "source": [
        "mydog = Dog(\"max\",\"7\")\n",
        "mydog.bark()\n"
      ],
      "metadata": {
        "colab": {
          "base_uri": "https://localhost:8080/"
        },
        "id": "2TatIojQrYrj",
        "outputId": "dab38926-8e2a-47d2-c0fb-345f5604517d"
      },
      "execution_count": null,
      "outputs": [
        {
          "output_type": "stream",
          "name": "stdout",
          "text": [
            "Woof!\n"
          ]
        }
      ]
    },
    {
      "cell_type": "code",
      "source": [
        "class Dog:\n",
        "    species = \"Canis familiaris\"  # Class variable\n",
        "\n",
        "    def __init__(self, name, age):\n",
        "        self.name = name\n",
        "        self.age = age\n",
        "\n",
        "    def bark(self):\n",
        "        print(\"Woof!\")"
      ],
      "metadata": {
        "id": "ihYBntctsvaR"
      },
      "execution_count": null,
      "outputs": []
    },
    {
      "cell_type": "code",
      "source": [
        "mycat = (\"abc\",\"9\")\n",
        "print(mycat)"
      ],
      "metadata": {
        "colab": {
          "base_uri": "https://localhost:8080/"
        },
        "id": "3sfBP8wrsv4Y",
        "outputId": "d7c09df3-7b01-4c4a-c396-150ed65cb65b"
      },
      "execution_count": null,
      "outputs": [
        {
          "output_type": "stream",
          "name": "stdout",
          "text": [
            "('abc', '9')\n"
          ]
        }
      ]
    },
    {
      "cell_type": "code",
      "source": [
        "class Animal:\n",
        "    def __init__(self, name, age):\n",
        "        self.name = name\n",
        "        self.age = age\n",
        "\n",
        "    def speak(self):\n",
        "        print(\"Some generic sound\")\n",
        "\n",
        "class Dog(Animal):\n",
        "    def bark(self):\n",
        "        print(\"Woof!\")"
      ],
      "metadata": {
        "id": "tn7RxgLIs9DN"
      },
      "execution_count": null,
      "outputs": []
    },
    {
      "cell_type": "code",
      "source": [
        "animal = Dog(\"max\",\"3\")\n",
        "animal.bark()"
      ],
      "metadata": {
        "colab": {
          "base_uri": "https://localhost:8080/"
        },
        "id": "odXzlIOAtph9",
        "outputId": "95910132-e56e-4156-967a-636cce7e572d"
      },
      "execution_count": null,
      "outputs": [
        {
          "output_type": "stream",
          "name": "stdout",
          "text": [
            "Woof!\n"
          ]
        }
      ]
    },
    {
      "cell_type": "code",
      "source": [
        "print =input('enter your name:')\n"
      ],
      "metadata": {
        "colab": {
          "base_uri": "https://localhost:8080/"
        },
        "id": "RETDBUQfuEKi",
        "outputId": "803ec281-9f55-4cd3-f2f4-e857a40431d2"
      },
      "execution_count": null,
      "outputs": [
        {
          "name": "stdout",
          "output_type": "stream",
          "text": [
            "enter your name:navaal\n"
          ]
        }
      ]
    },
    {
      "cell_type": "code",
      "source": [
        "class Employee:\n",
        "    def __init__(self, name, age, department):\n",
        "        self.name = name\n",
        "        self.age = age\n",
        "        self.department = department\n",
        "\n",
        "    def display_info(self):\n",
        "        print(f\"Name: {self.name}, Age: {self.age}, Department: {self.department}\")"
      ],
      "metadata": {
        "id": "b6TZmHj48Urt"
      },
      "execution_count": null,
      "outputs": []
    },
    {
      "cell_type": "code",
      "source": [
        "class Employee:\n",
        "    def __init__(self, name, age, department):\n",
        "        self.name = name\n",
        "        self.age = age\n",
        "        self.department = department\n",
        "\n",
        "    def display_info(self):\n",
        "        print(f\"Name: {self.name}, Age: {self.age}, Department: {self.department}\")"
      ],
      "metadata": {
        "id": "mKKTVL2Ay8XJ"
      },
      "execution_count": null,
      "outputs": []
    },
    {
      "cell_type": "code",
      "source": [
        "employee=Employee(\"Navaal\",\"23\", \"IT\")\n"
      ],
      "metadata": {
        "id": "y41SKlFz0Gdc"
      },
      "execution_count": null,
      "outputs": []
    },
    {
      "cell_type": "code",
      "source": [
        "print(type(employee))"
      ],
      "metadata": {
        "colab": {
          "base_uri": "https://localhost:8080/",
          "height": 141
        },
        "id": "M4KZ5R9r73PJ",
        "outputId": "3945496b-1cc9-4707-ecb3-c8a357a1ddc0"
      },
      "execution_count": null,
      "outputs": [
        {
          "output_type": "error",
          "ename": "TypeError",
          "evalue": "'str' object is not callable",
          "traceback": [
            "\u001b[0;31m---------------------------------------------------------------------------\u001b[0m",
            "\u001b[0;31mTypeError\u001b[0m                                 Traceback (most recent call last)",
            "\u001b[0;32m<ipython-input-97-164f8e1db33d>\u001b[0m in \u001b[0;36m<cell line: 1>\u001b[0;34m()\u001b[0m\n\u001b[0;32m----> 1\u001b[0;31m \u001b[0mprint\u001b[0m\u001b[0;34m(\u001b[0m\u001b[0mtype\u001b[0m\u001b[0;34m(\u001b[0m\u001b[0memployee\u001b[0m\u001b[0;34m)\u001b[0m\u001b[0;34m)\u001b[0m\u001b[0;34m\u001b[0m\u001b[0;34m\u001b[0m\u001b[0m\n\u001b[0m",
            "\u001b[0;31mTypeError\u001b[0m: 'str' object is not callable"
          ]
        }
      ]
    },
    {
      "cell_type": "code",
      "source": [
        "# Assuming the Employee class is already defined\n",
        "\n",
        "class Designer(Employee):\n",
        "    def __init__(self, name, age, department, tool):\n",
        "        super().__init__(name, age, department)\n",
        "        self.tool = tool\n",
        "\n",
        "    def display_info(self):\n",
        "        super().display_info()  # Calls Employee's display_info method\n",
        "        print(f\"Design Tool: {self.tool}\")  # Adds Designer-specific info\n",
        "\n",
        "# Create an instance of Designer\n",
        "designer = Designer(name=\"Alex\", age=30, department=\"Creative\", tool=\"Photoshop\")\n",
        "\n",
        "# Call the display_info method\n",
        "designer.display_info()\n"
      ],
      "metadata": {
        "colab": {
          "base_uri": "https://localhost:8080/",
          "height": 287
        },
        "id": "JMZLC7-p09lJ",
        "outputId": "94cd721f-ca9a-4fd0-d98c-8b50f89f0639"
      },
      "execution_count": null,
      "outputs": [
        {
          "output_type": "error",
          "ename": "TypeError",
          "evalue": "'str' object is not callable",
          "traceback": [
            "\u001b[0;31m---------------------------------------------------------------------------\u001b[0m",
            "\u001b[0;31mTypeError\u001b[0m                                 Traceback (most recent call last)",
            "\u001b[0;32m<ipython-input-98-8b09b18b6c20>\u001b[0m in \u001b[0;36m<cell line: 16>\u001b[0;34m()\u001b[0m\n\u001b[1;32m     14\u001b[0m \u001b[0;34m\u001b[0m\u001b[0m\n\u001b[1;32m     15\u001b[0m \u001b[0;31m# Call the display_info method\u001b[0m\u001b[0;34m\u001b[0m\u001b[0;34m\u001b[0m\u001b[0m\n\u001b[0;32m---> 16\u001b[0;31m \u001b[0mdesigner\u001b[0m\u001b[0;34m.\u001b[0m\u001b[0mdisplay_info\u001b[0m\u001b[0;34m(\u001b[0m\u001b[0;34m)\u001b[0m\u001b[0;34m\u001b[0m\u001b[0;34m\u001b[0m\u001b[0m\n\u001b[0m",
            "\u001b[0;32m<ipython-input-98-8b09b18b6c20>\u001b[0m in \u001b[0;36mdisplay_info\u001b[0;34m(self)\u001b[0m\n\u001b[1;32m      7\u001b[0m \u001b[0;34m\u001b[0m\u001b[0m\n\u001b[1;32m      8\u001b[0m     \u001b[0;32mdef\u001b[0m \u001b[0mdisplay_info\u001b[0m\u001b[0;34m(\u001b[0m\u001b[0mself\u001b[0m\u001b[0;34m)\u001b[0m\u001b[0;34m:\u001b[0m\u001b[0;34m\u001b[0m\u001b[0;34m\u001b[0m\u001b[0m\n\u001b[0;32m----> 9\u001b[0;31m         \u001b[0msuper\u001b[0m\u001b[0;34m(\u001b[0m\u001b[0;34m)\u001b[0m\u001b[0;34m.\u001b[0m\u001b[0mdisplay_info\u001b[0m\u001b[0;34m(\u001b[0m\u001b[0;34m)\u001b[0m  \u001b[0;31m# Calls Employee's display_info method\u001b[0m\u001b[0;34m\u001b[0m\u001b[0;34m\u001b[0m\u001b[0m\n\u001b[0m\u001b[1;32m     10\u001b[0m         \u001b[0mprint\u001b[0m\u001b[0;34m(\u001b[0m\u001b[0;34mf\"Design Tool: {self.tool}\"\u001b[0m\u001b[0;34m)\u001b[0m  \u001b[0;31m# Adds Designer-specific info\u001b[0m\u001b[0;34m\u001b[0m\u001b[0;34m\u001b[0m\u001b[0m\n\u001b[1;32m     11\u001b[0m \u001b[0;34m\u001b[0m\u001b[0m\n",
            "\u001b[0;32m<ipython-input-91-6b568419d943>\u001b[0m in \u001b[0;36mdisplay_info\u001b[0;34m(self)\u001b[0m\n\u001b[1;32m      6\u001b[0m \u001b[0;34m\u001b[0m\u001b[0m\n\u001b[1;32m      7\u001b[0m     \u001b[0;32mdef\u001b[0m \u001b[0mdisplay_info\u001b[0m\u001b[0;34m(\u001b[0m\u001b[0mself\u001b[0m\u001b[0;34m)\u001b[0m\u001b[0;34m:\u001b[0m\u001b[0;34m\u001b[0m\u001b[0;34m\u001b[0m\u001b[0m\n\u001b[0;32m----> 8\u001b[0;31m         \u001b[0mprint\u001b[0m\u001b[0;34m(\u001b[0m\u001b[0;34mf\"Name: {self.name}, Age: {self.age}, Department: {self.department}\"\u001b[0m\u001b[0;34m)\u001b[0m\u001b[0;34m\u001b[0m\u001b[0;34m\u001b[0m\u001b[0m\n\u001b[0m",
            "\u001b[0;31mTypeError\u001b[0m: 'str' object is not callable"
          ]
        }
      ]
    },
    {
      "cell_type": "code",
      "source": [
        "class Teacher():\n",
        "    def __init__(self, teacher_id : int , teacher_name : str) -> None: # method/constructor\n",
        "        self.name : str = teacher_name #self.attribute_name = value\n",
        "        self.teacher_id : int  = teacher_id\n",
        "        self.organization_name: str = \"PIAIC\"\n",
        "\n",
        "\n",
        "    def speak(self, words : str )->None: # method\n",
        "        print(f\"{self.name} is speaking {words}\")\n",
        "\n",
        "    def teaching(self, subject : str )->None: # method\n",
        "        print(f\"{self.name} is teaching {subject}...!\")"
      ],
      "metadata": {
        "id": "wSutP5pQ4zwF"
      },
      "execution_count": null,
      "outputs": []
    },
    {
      "cell_type": "code",
      "source": [
        "\n",
        "obj1 : Teacher = Teacher(1,\"Sir Zia Khan\") #intialize object->calling constructor __init__() method only this time\n",
        "# obj1 = object, teacher class instance\n",
        "\n",
        "\n",
        "\n",
        "obj2 : Teacher = Teacher(2, \"Muhammad Qasim\")"
      ],
      "metadata": {
        "id": "Ij6jXb7J8--D"
      },
      "execution_count": null,
      "outputs": []
    },
    {
      "cell_type": "code",
      "source": [
        "abc1 : Teacher = Teacher(3)"
      ],
      "metadata": {
        "colab": {
          "base_uri": "https://localhost:8080/",
          "height": 141
        },
        "id": "js_MUMB79Coa",
        "outputId": "c9300772-3411-4300-9813-c5441aa4a551"
      },
      "execution_count": null,
      "outputs": [
        {
          "output_type": "error",
          "ename": "TypeError",
          "evalue": "Teacher.__init__() missing 1 required positional argument: 'teacher_name'",
          "traceback": [
            "\u001b[0;31m---------------------------------------------------------------------------\u001b[0m",
            "\u001b[0;31mTypeError\u001b[0m                                 Traceback (most recent call last)",
            "\u001b[0;32m<ipython-input-103-574fc8ce0791>\u001b[0m in \u001b[0;36m<cell line: 1>\u001b[0;34m()\u001b[0m\n\u001b[0;32m----> 1\u001b[0;31m \u001b[0mabc1\u001b[0m \u001b[0;34m:\u001b[0m \u001b[0mTeacher\u001b[0m \u001b[0;34m=\u001b[0m \u001b[0mTeacher\u001b[0m\u001b[0;34m(\u001b[0m\u001b[0;36m3\u001b[0m\u001b[0;34m)\u001b[0m\u001b[0;34m\u001b[0m\u001b[0;34m\u001b[0m\u001b[0m\n\u001b[0m",
            "\u001b[0;31mTypeError\u001b[0m: Teacher.__init__() missing 1 required positional argument: 'teacher_name'"
          ]
        }
      ]
    },
    {
      "cell_type": "code",
      "source": [
        "print(obj1.name)\n",
        "print(obj1.teacher_id)\n",
        "print(obj1.organization_name)\n",
        "\n",
        "print(obj2.name)\n",
        "print(obj2.teacher_id)\n",
        "print(obj2.organization_name)"
      ],
      "metadata": {
        "colab": {
          "base_uri": "https://localhost:8080/",
          "height": 211
        },
        "id": "_Rijbitn9G0j",
        "outputId": "5c3bf12c-4e0c-42c2-ae40-e970ea6ae378"
      },
      "execution_count": null,
      "outputs": [
        {
          "output_type": "error",
          "ename": "TypeError",
          "evalue": "'str' object is not callable",
          "traceback": [
            "\u001b[0;31m---------------------------------------------------------------------------\u001b[0m",
            "\u001b[0;31mTypeError\u001b[0m                                 Traceback (most recent call last)",
            "\u001b[0;32m<ipython-input-104-d0e8bacb54ab>\u001b[0m in \u001b[0;36m<cell line: 1>\u001b[0;34m()\u001b[0m\n\u001b[0;32m----> 1\u001b[0;31m \u001b[0mprint\u001b[0m\u001b[0;34m(\u001b[0m\u001b[0mobj1\u001b[0m\u001b[0;34m.\u001b[0m\u001b[0mname\u001b[0m\u001b[0;34m)\u001b[0m\u001b[0;34m\u001b[0m\u001b[0;34m\u001b[0m\u001b[0m\n\u001b[0m\u001b[1;32m      2\u001b[0m \u001b[0mprint\u001b[0m\u001b[0;34m(\u001b[0m\u001b[0mobj1\u001b[0m\u001b[0;34m.\u001b[0m\u001b[0mteacher_id\u001b[0m\u001b[0;34m)\u001b[0m\u001b[0;34m\u001b[0m\u001b[0;34m\u001b[0m\u001b[0m\n\u001b[1;32m      3\u001b[0m \u001b[0mprint\u001b[0m\u001b[0;34m(\u001b[0m\u001b[0mobj1\u001b[0m\u001b[0;34m.\u001b[0m\u001b[0morganization_name\u001b[0m\u001b[0;34m)\u001b[0m\u001b[0;34m\u001b[0m\u001b[0;34m\u001b[0m\u001b[0m\n\u001b[1;32m      4\u001b[0m \u001b[0;34m\u001b[0m\u001b[0m\n\u001b[1;32m      5\u001b[0m \u001b[0mprint\u001b[0m\u001b[0;34m(\u001b[0m\u001b[0mobj2\u001b[0m\u001b[0;34m.\u001b[0m\u001b[0mname\u001b[0m\u001b[0;34m)\u001b[0m\u001b[0;34m\u001b[0m\u001b[0;34m\u001b[0m\u001b[0m\n",
            "\u001b[0;31mTypeError\u001b[0m: 'str' object is not callable"
          ]
        }
      ]
    },
    {
      "cell_type": "code",
      "source": [
        "class Base1:\n",
        "    def method(self) -> str:\n",
        "        return \"Base1\"\n",
        "\n",
        "class Base2:\n",
        "    def method(self) -> str:\n",
        "        return \"Base2\"\n",
        "\n",
        "class Derived(Base1, Base2):\n",
        "    pass\n",
        "\n",
        "# Create an instance of Derived\n",
        "obj = Derived()\n",
        "\n",
        "# Call the method and print the result\n",
        "print(obj.method())  # Output: Base1\n"
      ],
      "metadata": {
        "colab": {
          "base_uri": "https://localhost:8080/",
          "height": 176
        },
        "id": "gECisjHQ_yKa",
        "outputId": "6f0224b1-8846-45ba-e93c-52a5680025da"
      },
      "execution_count": null,
      "outputs": [
        {
          "output_type": "error",
          "ename": "TypeError",
          "evalue": "'str' object is not callable",
          "traceback": [
            "\u001b[0;31m---------------------------------------------------------------------------\u001b[0m",
            "\u001b[0;31mTypeError\u001b[0m                                 Traceback (most recent call last)",
            "\u001b[0;32m<ipython-input-105-c4fd24937cff>\u001b[0m in \u001b[0;36m<cell line: 16>\u001b[0;34m()\u001b[0m\n\u001b[1;32m     14\u001b[0m \u001b[0;34m\u001b[0m\u001b[0m\n\u001b[1;32m     15\u001b[0m \u001b[0;31m# Call the method and print the result\u001b[0m\u001b[0;34m\u001b[0m\u001b[0;34m\u001b[0m\u001b[0m\n\u001b[0;32m---> 16\u001b[0;31m \u001b[0mprint\u001b[0m\u001b[0;34m(\u001b[0m\u001b[0mobj\u001b[0m\u001b[0;34m.\u001b[0m\u001b[0mmethod\u001b[0m\u001b[0;34m(\u001b[0m\u001b[0;34m)\u001b[0m\u001b[0;34m)\u001b[0m  \u001b[0;31m# Output: Base1\u001b[0m\u001b[0;34m\u001b[0m\u001b[0;34m\u001b[0m\u001b[0m\n\u001b[0m",
            "\u001b[0;31mTypeError\u001b[0m: 'str' object is not callable"
          ]
        }
      ]
    },
    {
      "cell_type": "code",
      "source": [
        "from typing import overload\n",
        "\n",
        "@overload\n",
        "def add(x: int, y: int) -> int:\n",
        "    ...\n",
        "\n",
        "@overload\n",
        "def add(x: float, y: float) -> float:\n",
        "    ...\n",
        "\n",
        "def add(x, y):\n",
        "    return x + y\n",
        "\n",
        "print(add(1, 2))        # Output: 3\n",
        "print(add(1.5, 2.5))   # Output: 4.0"
      ],
      "metadata": {
        "colab": {
          "base_uri": "https://localhost:8080/",
          "height": 193
        },
        "id": "nf3HSr5C_7KR",
        "outputId": "99ed3ec3-3a53-4276-dd07-a57932c4275f"
      },
      "execution_count": 109,
      "outputs": [
        {
          "output_type": "error",
          "ename": "TypeError",
          "evalue": "'str' object is not callable",
          "traceback": [
            "\u001b[0;31m---------------------------------------------------------------------------\u001b[0m",
            "\u001b[0;31mTypeError\u001b[0m                                 Traceback (most recent call last)",
            "\u001b[0;32m<ipython-input-109-4a1cb9352d62>\u001b[0m in \u001b[0;36m<cell line: 14>\u001b[0;34m()\u001b[0m\n\u001b[1;32m     12\u001b[0m     \u001b[0;32mreturn\u001b[0m \u001b[0mx\u001b[0m \u001b[0;34m+\u001b[0m \u001b[0my\u001b[0m\u001b[0;34m\u001b[0m\u001b[0;34m\u001b[0m\u001b[0m\n\u001b[1;32m     13\u001b[0m \u001b[0;34m\u001b[0m\u001b[0m\n\u001b[0;32m---> 14\u001b[0;31m \u001b[0mprint\u001b[0m\u001b[0;34m(\u001b[0m\u001b[0madd\u001b[0m\u001b[0;34m(\u001b[0m\u001b[0;36m1\u001b[0m\u001b[0;34m,\u001b[0m \u001b[0;36m2\u001b[0m\u001b[0;34m)\u001b[0m\u001b[0;34m)\u001b[0m        \u001b[0;31m# Output: 3\u001b[0m\u001b[0;34m\u001b[0m\u001b[0;34m\u001b[0m\u001b[0m\n\u001b[0m\u001b[1;32m     15\u001b[0m \u001b[0mprint\u001b[0m\u001b[0;34m(\u001b[0m\u001b[0madd\u001b[0m\u001b[0;34m(\u001b[0m\u001b[0;36m1.5\u001b[0m\u001b[0;34m,\u001b[0m \u001b[0;36m2.5\u001b[0m\u001b[0;34m)\u001b[0m\u001b[0;34m)\u001b[0m   \u001b[0;31m# Output: 4.0\u001b[0m\u001b[0;34m\u001b[0m\u001b[0;34m\u001b[0m\u001b[0m\n",
            "\u001b[0;31mTypeError\u001b[0m: 'str' object is not callable"
          ]
        }
      ]
    },
    {
      "cell_type": "code",
      "source": [
        "class Multiplier:\n",
        "    def __call__(self, x: int, y: int) -> int:\n",
        "        return x * y\n",
        "\n",
        "multiply = Multiplier()\n",
        "print(multiply(2, 3))  # Output: 12\n"
      ],
      "metadata": {
        "colab": {
          "base_uri": "https://localhost:8080/",
          "height": 176
        },
        "id": "OEJcS-Q6FUKk",
        "outputId": "a0b23897-9b24-4296-b7ef-e5710ea2ff1c"
      },
      "execution_count": 112,
      "outputs": [
        {
          "output_type": "error",
          "ename": "TypeError",
          "evalue": "'str' object is not callable",
          "traceback": [
            "\u001b[0;31m---------------------------------------------------------------------------\u001b[0m",
            "\u001b[0;31mTypeError\u001b[0m                                 Traceback (most recent call last)",
            "\u001b[0;32m<ipython-input-112-4f74fde12bc0>\u001b[0m in \u001b[0;36m<cell line: 6>\u001b[0;34m()\u001b[0m\n\u001b[1;32m      4\u001b[0m \u001b[0;34m\u001b[0m\u001b[0m\n\u001b[1;32m      5\u001b[0m \u001b[0mmultiply\u001b[0m \u001b[0;34m=\u001b[0m \u001b[0mMultiplier\u001b[0m\u001b[0;34m(\u001b[0m\u001b[0;34m)\u001b[0m\u001b[0;34m\u001b[0m\u001b[0;34m\u001b[0m\u001b[0m\n\u001b[0;32m----> 6\u001b[0;31m \u001b[0mprint\u001b[0m\u001b[0;34m(\u001b[0m\u001b[0mmultiply\u001b[0m\u001b[0;34m(\u001b[0m\u001b[0;36m2\u001b[0m\u001b[0;34m,\u001b[0m \u001b[0;36m3\u001b[0m\u001b[0;34m)\u001b[0m\u001b[0;34m)\u001b[0m  \u001b[0;31m# Output: 12\u001b[0m\u001b[0;34m\u001b[0m\u001b[0;34m\u001b[0m\u001b[0m\n\u001b[0m",
            "\u001b[0;31mTypeError\u001b[0m: 'str' object is not callable"
          ]
        }
      ]
    },
    {
      "cell_type": "code",
      "source": [],
      "metadata": {
        "id": "FNYJW3uu_y04"
      },
      "execution_count": null,
      "outputs": []
    }
  ]
}
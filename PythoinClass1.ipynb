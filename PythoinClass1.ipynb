{
  "nbformat": 4,
  "nbformat_minor": 0,
  "metadata": {
    "colab": {
      "provenance": []
    },
    "kernelspec": {
      "name": "python3",
      "display_name": "Python 3"
    },
    "language_info": {
      "name": "python"
    }
  },
  "cells": [
    {
      "cell_type": "code",
      "execution_count": 2,
      "metadata": {
        "colab": {
          "base_uri": "https://localhost:8080/"
        },
        "id": "X7jatv-J1sN8",
        "outputId": "614682b5-4701-42f3-c0f6-683d89aed197"
      },
      "outputs": [
        {
          "output_type": "stream",
          "name": "stdout",
          "text": [
            "Hello World\n"
          ]
        }
      ],
      "source": [
        "print(\"Hello World\")"
      ]
    },
    {
      "cell_type": "code",
      "source": [
        "if 5 > 3 :\n",
        "  print (\"True\")\n",
        "else:\n",
        "  print(\"False\")\n",
        ""
      ],
      "metadata": {
        "colab": {
          "base_uri": "https://localhost:8080/"
        },
        "id": "NKnhY3Aj3IaH",
        "outputId": "9bd5e343-c4cf-43a4-ea14-478375e7b834"
      },
      "execution_count": 3,
      "outputs": [
        {
          "output_type": "stream",
          "name": "stdout",
          "text": [
            "True\n"
          ]
        }
      ]
    },
    {
      "cell_type": "code",
      "source": [
        "name = \"navaal\"\n",
        "print (name)\n",
        "print (type (name))\n",
        "print (id (name))"
      ],
      "metadata": {
        "colab": {
          "base_uri": "https://localhost:8080/"
        },
        "id": "ADkH-zu13VlR",
        "outputId": "9be77169-984f-43a2-f7ce-b257edc7cb7a"
      },
      "execution_count": 17,
      "outputs": [
        {
          "output_type": "stream",
          "name": "stdout",
          "text": [
            "navaal\n",
            "<class 'str'>\n",
            "138612309372336\n"
          ]
        }
      ]
    },
    {
      "cell_type": "code",
      "source": [
        "name = str(\"alisa\")\n",
        "print (name)\n",
        "print(type(name))\n",
        "print (id(name))"
      ],
      "metadata": {
        "colab": {
          "base_uri": "https://localhost:8080/"
        },
        "id": "P2c0u-l431W9",
        "outputId": "40007cd1-a7ea-4b58-e1e9-6aadb27dbded"
      },
      "execution_count": 7,
      "outputs": [
        {
          "output_type": "stream",
          "name": "stdout",
          "text": [
            "alisa\n",
            "<class 'str'>\n",
            "138612480069488\n"
          ]
        }
      ]
    },
    {
      "cell_type": "code",
      "source": [
        "name:str = \"liso\"\n",
        "print(name)\n",
        "print(type(name))\n",
        "print(id(name))"
      ],
      "metadata": {
        "colab": {
          "base_uri": "https://localhost:8080/"
        },
        "id": "xrNvga0g4Hfz",
        "outputId": "8eb5d95f-9707-4fac-f097-63a77f9ad01b"
      },
      "execution_count": 8,
      "outputs": [
        {
          "output_type": "stream",
          "name": "stdout",
          "text": [
            "liso\n",
            "<class 'str'>\n",
            "138612480127152\n"
          ]
        }
      ]
    },
    {
      "cell_type": "code",
      "source": [
        "name: bool= \"False\"\n",
        "print(name)\n",
        "print(type(name))\n",
        "print(id(name))"
      ],
      "metadata": {
        "colab": {
          "base_uri": "https://localhost:8080/"
        },
        "id": "8Fi2DjgL4RI3",
        "outputId": "095f0b0c-bf8d-4fab-d62e-e330b5706063"
      },
      "execution_count": 9,
      "outputs": [
        {
          "output_type": "stream",
          "name": "stdout",
          "text": [
            "False\n",
            "<class 'str'>\n",
            "138613593833904\n"
          ]
        }
      ]
    },
    {
      "cell_type": "code",
      "source": [
        "number= float(\"3.45\")\n",
        "print(number)\n",
        "print(type(number))\n",
        "print(id(number))"
      ],
      "metadata": {
        "colab": {
          "base_uri": "https://localhost:8080/"
        },
        "id": "sg4fsYrW4ewk",
        "outputId": "786fe978-0bd9-4e83-d173-d16eec80b694"
      },
      "execution_count": 10,
      "outputs": [
        {
          "output_type": "stream",
          "name": "stdout",
          "text": [
            "3.45\n",
            "<class 'float'>\n",
            "138612310156912\n"
          ]
        }
      ]
    },
    {
      "cell_type": "code",
      "source": [
        "age = int(\"23\")\n",
        "print(age)\n",
        "print(type(age))\n",
        "print(id(age))"
      ],
      "metadata": {
        "colab": {
          "base_uri": "https://localhost:8080/"
        },
        "id": "228wZBHL4sUi",
        "outputId": "89fc0ce3-ea2b-435a-c644-af8ce47763dd"
      },
      "execution_count": 11,
      "outputs": [
        {
          "output_type": "stream",
          "name": "stdout",
          "text": [
            "23\n",
            "<class 'int'>\n",
            "138613593195440\n"
          ]
        }
      ]
    },
    {
      "cell_type": "code",
      "source": [
        "x= \"45\"\n",
        "y= \"20\"\n",
        "z= x+y\n",
        "print(z)"
      ],
      "metadata": {
        "colab": {
          "base_uri": "https://localhost:8080/"
        },
        "id": "tfCA5KzZ5Fn4",
        "outputId": "f667f717-2357-4f26-d5e7-9916443a711a"
      },
      "execution_count": 15,
      "outputs": [
        {
          "output_type": "stream",
          "name": "stdout",
          "text": [
            "4520\n"
          ]
        }
      ]
    },
    {
      "cell_type": "code",
      "source": [
        "x=2\n",
        "y=3\n",
        "z=2*3\n",
        "print(2*3)"
      ],
      "metadata": {
        "colab": {
          "base_uri": "https://localhost:8080/"
        },
        "id": "ScPQSn7J5bK5",
        "outputId": "6ccc25b5-c9a1-4437-8545-36cb52367f39"
      },
      "execution_count": 16,
      "outputs": [
        {
          "output_type": "stream",
          "name": "stdout",
          "text": [
            "6\n"
          ]
        }
      ]
    },
    {
      "cell_type": "code",
      "source": [
        "name : list = ['apple', 'bnanana', 'orange']\n",
        "print(name)\n",
        "print(type(name))\n",
        "print(id(name))"
      ],
      "metadata": {
        "colab": {
          "base_uri": "https://localhost:8080/"
        },
        "id": "7XIDocJ-77HY",
        "outputId": "8eb587ca-6c99-4e9b-c16d-3567f9d1ab32"
      },
      "execution_count": 21,
      "outputs": [
        {
          "output_type": "stream",
          "name": "stdout",
          "text": [
            "['apple', 'bnanana', 'orange']\n",
            "<class 'list'>\n",
            "138612480077056\n"
          ]
        }
      ]
    },
    {
      "cell_type": "code",
      "source": [
        "name: tuple = ['Lahore', 'Alexa','23', '23.3']\n",
        "print (name)\n",
        "print(type(name))\n",
        "print(id(name))"
      ],
      "metadata": {
        "colab": {
          "base_uri": "https://localhost:8080/"
        },
        "id": "j85JvDce8h1R",
        "outputId": "c7e8dba3-0665-4bc7-e618-b2c44cc25253"
      },
      "execution_count": 22,
      "outputs": [
        {
          "output_type": "stream",
          "name": "stdout",
          "text": [
            "['Lahore', 'Alexa', '23', '23.3']\n",
            "<class 'list'>\n",
            "138612309658880\n"
          ]
        }
      ]
    },
    {
      "cell_type": "code",
      "source": [
        "name: tuple[str,float,int] = ['Pakistan','234','23.3']\n",
        "print(name)\n",
        "print(type(name))\n",
        "print(id(name))"
      ],
      "metadata": {
        "colab": {
          "base_uri": "https://localhost:8080/"
        },
        "id": "qJJqVQQq9RwX",
        "outputId": "dc4e33e8-787b-4843-d954-6954c786156e"
      },
      "execution_count": 23,
      "outputs": [
        {
          "output_type": "stream",
          "name": "stdout",
          "text": [
            "['Pakistan', '234', '23.3']\n",
            "<class 'list'>\n",
            "138612309596672\n"
          ]
        }
      ]
    },
    {
      "cell_type": "code",
      "source": [
        "name: list[str,float,int] = ['Pakistan','234','23.3']\n",
        "print(name)\n",
        "print(type(name))\n",
        "print(id(name))"
      ],
      "metadata": {
        "colab": {
          "base_uri": "https://localhost:8080/"
        },
        "id": "Y6ncUhxo9j5A",
        "outputId": "e2943c75-6c70-40f2-b057-76a8f5c177f4"
      },
      "execution_count": 24,
      "outputs": [
        {
          "output_type": "stream",
          "name": "stdout",
          "text": [
            "['Pakistan', '234', '23.3']\n",
            "<class 'list'>\n",
            "138612309665536\n"
          ]
        }
      ]
    }
  ]
}
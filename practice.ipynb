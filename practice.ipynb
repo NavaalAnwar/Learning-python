{
  "nbformat": 4,
  "nbformat_minor": 0,
  "metadata": {
    "colab": {
      "provenance": []
    },
    "kernelspec": {
      "name": "python3",
      "display_name": "Python 3"
    },
    "language_info": {
      "name": "python"
    }
  },
  "cells": [
    {
      "cell_type": "code",
      "execution_count": null,
      "metadata": {
        "colab": {
          "base_uri": "https://localhost:8080/"
        },
        "id": "k5jC2fGMST9O",
        "outputId": "e6735bd9-7f60-42ef-f5ae-c743c2143849"
      },
      "outputs": [
        {
          "output_type": "stream",
          "name": "stdout",
          "text": [
            "Student Card\n",
            "Student name = Alexa\n",
            "Father name = David\n",
            "Age = 23\n",
            "Education = Data Science\n"
          ]
        }
      ],
      "source": [
        "name:str = \"Alexa\"\n",
        "fname:str = \"David\"\n",
        "age:int = \"23\"\n",
        "education:str = \"Data Science\"\n",
        "card:str= f\"\"\"Student Card\n",
        "Student name = {name}\n",
        "Father name = {fname}\n",
        "Age = {age}\n",
        "Education = {education}\"\"\"\n",
        "\n",
        "print(card)"
      ]
    },
    {
      "cell_type": "code",
      "source": [
        "name:str = \"Alexa\"\n",
        "fname:str = \"David\"\n",
        "age:int = \"23\"\n",
        "education:str = \"Data Science\"\n",
        "card:str= \"\"\"Student Card\n",
        "Student name = {}\n",
        "Father name = {}\n",
        "Age = {}\n",
        "Education = {}\"\"\".format(name, fname, age, education)\n",
        "\n",
        "print(card)"
      ],
      "metadata": {
        "colab": {
          "base_uri": "https://localhost:8080/"
        },
        "id": "MHjqNMSVYshY",
        "outputId": "4419f377-7144-4913-d139-efcd1543980b"
      },
      "execution_count": null,
      "outputs": [
        {
          "output_type": "stream",
          "name": "stdout",
          "text": [
            "Student Card\n",
            "Student name = Alexa\n",
            "Father name = David\n",
            "Age = 23\n",
            "Education = Data Science\n"
          ]
        }
      ]
    },
    {
      "cell_type": "code",
      "source": [
        "name:str = \"Alexa\"\n",
        "fname:str = \"David\"\n",
        "age:int = \"23\"\n",
        "education:str = \"Data Science\"\n",
        "card= \"\"\"Student Card\n",
        "Student name = {3}\n",
        "Father name = {0}\n",
        "Age = {2}\n",
        "Education = {1}\"\"\".format(fname,education , age, name)\n",
        "print(card)"
      ],
      "metadata": {
        "colab": {
          "base_uri": "https://localhost:8080/"
        },
        "id": "Z0g06m0rZ_B-",
        "outputId": "c8f24ce9-b2b3-429a-f045-d5e0cb2ef301"
      },
      "execution_count": null,
      "outputs": [
        {
          "output_type": "stream",
          "name": "stdout",
          "text": [
            "Student Card\n",
            "Student name = Alexa\n",
            "Father name = David\n",
            "Age = 23\n",
            "Education = Data Science\n"
          ]
        }
      ]
    },
    {
      "cell_type": "code",
      "source": [
        "name:str = \"Alexa David\"\n",
        "\n",
        "print(name.lower())"
      ],
      "metadata": {
        "colab": {
          "base_uri": "https://localhost:8080/"
        },
        "id": "1Unqc5_BbQnP",
        "outputId": "e007f8f6-2e1e-42da-c07c-0355fb3e8800"
      },
      "execution_count": null,
      "outputs": [
        {
          "output_type": "stream",
          "name": "stdout",
          "text": [
            "alexa david\n"
          ]
        }
      ]
    },
    {
      "cell_type": "code",
      "source": [
        "name:str = \"Alexa David\"\n",
        "\n",
        "print(name.upper())"
      ],
      "metadata": {
        "colab": {
          "base_uri": "https://localhost:8080/"
        },
        "id": "vZyDcl8rbeCb",
        "outputId": "05643c50-1c8a-4831-cf14-8e2735f74ab4"
      },
      "execution_count": null,
      "outputs": [
        {
          "output_type": "stream",
          "name": "stdout",
          "text": [
            "ALEXA DAVID\n"
          ]
        }
      ]
    },
    {
      "cell_type": "code",
      "source": [
        "name:str = \"Alexa David\"\n",
        "\n",
        "print(name.capitalize())"
      ],
      "metadata": {
        "colab": {
          "base_uri": "https://localhost:8080/"
        },
        "id": "M5OsaiT6bghT",
        "outputId": "0c2998d8-dd6c-44c8-fc10-a68112972247"
      },
      "execution_count": null,
      "outputs": [
        {
          "output_type": "stream",
          "name": "stdout",
          "text": [
            "Alexa david\n"
          ]
        }
      ]
    },
    {
      "cell_type": "code",
      "source": [
        "name:str = \"Alexa David\"\n",
        "\n",
        "print(name.casefold())"
      ],
      "metadata": {
        "colab": {
          "base_uri": "https://localhost:8080/"
        },
        "id": "Wm4XxdsUbo4w",
        "outputId": "b969f76a-1140-423a-dd2d-04aa785343c4"
      },
      "execution_count": null,
      "outputs": [
        {
          "output_type": "stream",
          "name": "stdout",
          "text": [
            "alexa david\n"
          ]
        }
      ]
    },
    {
      "cell_type": "code",
      "source": [
        "name:str = \"Alexa David\"\n",
        "\n",
        "print(name.strip())"
      ],
      "metadata": {
        "colab": {
          "base_uri": "https://localhost:8080/"
        },
        "id": "zxJZ7ImJbrh4",
        "outputId": "211f8a38-4424-44a0-c41f-cf5ed380d0c9"
      },
      "execution_count": null,
      "outputs": [
        {
          "output_type": "stream",
          "name": "stdout",
          "text": [
            "Alexa David\n"
          ]
        }
      ]
    },
    {
      "cell_type": "code",
      "source": [
        "name:str = \" Alexa David \"\n",
        "display(name)\n",
        "display(name.rstrip())"
      ],
      "metadata": {
        "colab": {
          "base_uri": "https://localhost:8080/",
          "height": 54
        },
        "id": "PEZPASjGbz8n",
        "outputId": "8d0a3b8d-2e9d-408b-b694-08c1c6d329d4"
      },
      "execution_count": null,
      "outputs": [
        {
          "output_type": "display_data",
          "data": {
            "text/plain": [
              "' Alexa David '"
            ],
            "application/vnd.google.colaboratory.intrinsic+json": {
              "type": "string"
            }
          },
          "metadata": {}
        },
        {
          "output_type": "display_data",
          "data": {
            "text/plain": [
              "' Alexa David'"
            ],
            "application/vnd.google.colaboratory.intrinsic+json": {
              "type": "string"
            }
          },
          "metadata": {}
        }
      ]
    },
    {
      "cell_type": "code",
      "source": [
        "name:str = \"  Alexa David\"\n",
        "display (name)\n",
        "display(name.lstrip())"
      ],
      "metadata": {
        "colab": {
          "base_uri": "https://localhost:8080/",
          "height": 54
        },
        "id": "wepfOXD6b19f",
        "outputId": "41a0b6cf-f865-49d6-fb06-3c9f74244ea8"
      },
      "execution_count": null,
      "outputs": [
        {
          "output_type": "display_data",
          "data": {
            "text/plain": [
              "'  Alexa David'"
            ],
            "application/vnd.google.colaboratory.intrinsic+json": {
              "type": "string"
            }
          },
          "metadata": {}
        },
        {
          "output_type": "display_data",
          "data": {
            "text/plain": [
              "'Alexa David'"
            ],
            "application/vnd.google.colaboratory.intrinsic+json": {
              "type": "string"
            }
          },
          "metadata": {}
        }
      ]
    },
    {
      "cell_type": "code",
      "source": [
        "website_url[-8]"
      ],
      "metadata": {
        "colab": {
          "base_uri": "https://localhost:8080/",
          "height": 35
        },
        "id": "IwFrYfZPjIJC",
        "outputId": "4bdf59f7-78b1-4c91-d7c4-27ca4c3701f6"
      },
      "execution_count": null,
      "outputs": [
        {
          "output_type": "execute_result",
          "data": {
            "text/plain": [
              "'g'"
            ],
            "application/vnd.google.colaboratory.intrinsic+json": {
              "type": "string"
            }
          },
          "metadata": {},
          "execution_count": 51
        }
      ]
    },
    {
      "cell_type": "code",
      "source": [
        "website_url:str = \"https://www.google.com/\"\n",
        "#website_url.removeprefix('https://')\n",
        "print(website_url.removeprefix('https://'))"
      ],
      "metadata": {
        "colab": {
          "base_uri": "https://localhost:8080/"
        },
        "id": "AttufMbLcnvk",
        "outputId": "46ae9ed3-309a-46be-86fb-9b798176d82a"
      },
      "execution_count": null,
      "outputs": [
        {
          "output_type": "stream",
          "name": "stdout",
          "text": [
            "www.google.com/\n"
          ]
        }
      ]
    },
    {
      "cell_type": "code",
      "source": [
        "website_url"
      ],
      "metadata": {
        "colab": {
          "base_uri": "https://localhost:8080/",
          "height": 35
        },
        "id": "8RwudfOMgM9E",
        "outputId": "a68247a7-52f5-4ea3-cceb-e1bd658a1bbe"
      },
      "execution_count": null,
      "outputs": [
        {
          "output_type": "execute_result",
          "data": {
            "text/plain": [
              "'https://www.google.com/'"
            ],
            "application/vnd.google.colaboratory.intrinsic+json": {
              "type": "string"
            }
          },
          "metadata": {},
          "execution_count": 38
        }
      ]
    },
    {
      "cell_type": "code",
      "source": [
        "website_url.removeprefix('https://')"
      ],
      "metadata": {
        "colab": {
          "base_uri": "https://localhost:8080/",
          "height": 35
        },
        "id": "nZMR3AvPgQKD",
        "outputId": "3d9419a7-3b6a-4f9b-c98e-ea5ce737abc1"
      },
      "execution_count": null,
      "outputs": [
        {
          "output_type": "execute_result",
          "data": {
            "text/plain": [
              "'www.google.com/'"
            ],
            "application/vnd.google.colaboratory.intrinsic+json": {
              "type": "string"
            }
          },
          "metadata": {},
          "execution_count": 39
        }
      ]
    },
    {
      "cell_type": "code",
      "source": [
        "template"
      ],
      "metadata": {
        "colab": {
          "base_uri": "https://localhost:8080/"
        },
        "id": "wNg4nfP-hWj_",
        "outputId": "57d4d48a-9d23-4b89-a68b-2cf6f91f1705"
      },
      "execution_count": null,
      "outputs": [
        {
          "output_type": "execute_result",
          "data": {
            "text/plain": [
              "<Template memory:7e07197313f0>"
            ]
          },
          "metadata": {},
          "execution_count": 42
        }
      ]
    },
    {
      "cell_type": "code",
      "source": [
        "from jinja2 import Template\n",
        "\n",
        "template_str = \"\"\"\n",
        "<!DOCTYPE html>\n",
        "<html>\n",
        "<head>\n",
        "    <title>{{ title }}</title>\n",
        "</head>\n",
        "<body>\n",
        "    <h1>Hello, {{ name }}!</h1>\n",
        "    <p>Age: {{ age }}</p>\n",
        "</body>\n",
        "</html>\n",
        "\"\"\"\n",
        "\n",
        "template = Template(template_str)\n",
        "rendered_html = template.render(name=\"Alice\", age=30, title=\"Greeting Page\")\n",
        "print(rendered_html)\n"
      ],
      "metadata": {
        "colab": {
          "base_uri": "https://localhost:8080/"
        },
        "id": "OKLMFq6DhMfA",
        "outputId": "962679e5-d141-42de-8bee-04923b45dc46"
      },
      "execution_count": null,
      "outputs": [
        {
          "output_type": "stream",
          "name": "stdout",
          "text": [
            "\n",
            "<!DOCTYPE html>\n",
            "<html>\n",
            "<head>\n",
            "    <title>Greeting Page</title>\n",
            "</head>\n",
            "<body>\n",
            "    <h1>Hello, Alice!</h1>\n",
            "    <p>Age: 30</p>\n",
            "</body>\n",
            "</html>\n"
          ]
        }
      ]
    },
    {
      "cell_type": "code",
      "source": [
        "\n",
        "fruits = [\"apple\", \"banana\", \"cherry\"]\n",
        "for x in fruits:\n",
        "  print(x)"
      ],
      "metadata": {
        "colab": {
          "base_uri": "https://localhost:8080/"
        },
        "id": "yMSzv9KekRGB",
        "outputId": "8fcc3e6f-cd48-4d34-aa3a-58b2e534fdd4"
      },
      "execution_count": null,
      "outputs": [
        {
          "output_type": "stream",
          "name": "stdout",
          "text": [
            "apple\n",
            "banana\n",
            "cherry\n"
          ]
        }
      ]
    },
    {
      "cell_type": "code",
      "source": [
        "x = \"1, 2, 3, 4, 5\"\n",
        "for x in range(5):\n",
        "  print(x)\n",
        "else:\n",
        "  print(\"Finished!\")"
      ],
      "metadata": {
        "colab": {
          "base_uri": "https://localhost:8080/"
        },
        "id": "rBlm2IXMkaCb",
        "outputId": "a44a9890-7428-45ca-808b-54b0354ae5ce"
      },
      "execution_count": null,
      "outputs": [
        {
          "output_type": "stream",
          "name": "stdout",
          "text": [
            "0\n",
            "1\n",
            "2\n",
            "3\n",
            "4\n",
            "Finished!\n"
          ]
        }
      ]
    },
    {
      "cell_type": "code",
      "source": [
        "fruits = [\"apple\", \"banana\", \"cherry\", \"kiwi\", \"mango\"]\n",
        "newlist = [x for x in fruits if \"a\" in x]\n",
        "print(newlist)"
      ],
      "metadata": {
        "colab": {
          "base_uri": "https://localhost:8080/"
        },
        "id": "XPta_d0bkatD",
        "outputId": "f747f156-cdf0-447b-bcc4-7cc65bd82c22"
      },
      "execution_count": null,
      "outputs": [
        {
          "output_type": "stream",
          "name": "stdout",
          "text": [
            "['apple', 'banana', 'mango']\n"
          ]
        }
      ]
    },
    {
      "cell_type": "code",
      "source": [
        "my_tuple = (1, 2, 3, 4, 5)\n",
        "print(my_tuple)"
      ],
      "metadata": {
        "colab": {
          "base_uri": "https://localhost:8080/"
        },
        "id": "eKal4gxfljZS",
        "outputId": "9ecba8be-1e9c-47e0-ddd9-42bd00607f45"
      },
      "execution_count": null,
      "outputs": [
        {
          "output_type": "stream",
          "name": "stdout",
          "text": [
            "(1, 2, 3, 4, 5)\n"
          ]
        }
      ]
    },
    {
      "cell_type": "code",
      "source": [
        "from typing import Union, Optional\n",
        "\n",
        "def greet(name: Optional[str] = \"Ali\") -> str:\n",
        "    if name is None:\n",
        "        return \"Hello, Guest!\"\n",
        "    else:\n",
        "        return f\"Hello, {name}!\"\n",
        "\n",
        "age: Union[int, str] = \"Twenty\"\n",
        "print(greet())\n",
        "print(greet(\"John\"))"
      ],
      "metadata": {
        "colab": {
          "base_uri": "https://localhost:8080/"
        },
        "id": "6mkYGbwunD4M",
        "outputId": "de9e2350-b703-495c-a834-a58835b0d152"
      },
      "execution_count": null,
      "outputs": [
        {
          "output_type": "stream",
          "name": "stdout",
          "text": [
            "Hello, Ali!\n",
            "Hello, John!\n"
          ]
        }
      ]
    },
    {
      "cell_type": "code",
      "source": [
        "names: list[str] = [\"Alice\", \"Bob\", \"Charlie\"]\n",
        "ages: list[int] = [25, 30, 35]\n",
        "\n",
        "zipped = zip(names, ages)\n",
        "for name, age in zipped:\n",
        "    print(f\"{name} is {age} years old\")"
      ],
      "metadata": {
        "colab": {
          "base_uri": "https://localhost:8080/"
        },
        "id": "yTNzInc9pDpp",
        "outputId": "9ec0c375-d40e-4463-fcff-9641225a02bd"
      },
      "execution_count": null,
      "outputs": [
        {
          "output_type": "stream",
          "name": "stdout",
          "text": [
            "Alice is 25 years old\n",
            "Bob is 30 years old\n",
            "Charlie is 35 years old\n"
          ]
        }
      ]
    },
    {
      "cell_type": "code",
      "source": [
        "counter: int = 0\n",
        "while counter < 5:\n",
        "    print(\"Counter is:\", counter)\n",
        "    counter += 1\n"
      ],
      "metadata": {
        "colab": {
          "base_uri": "https://localhost:8080/"
        },
        "id": "O-zWviavrjXt",
        "outputId": "42e5e2bb-f890-4c8a-b1c1-ee8bc70303d3"
      },
      "execution_count": null,
      "outputs": [
        {
          "output_type": "stream",
          "name": "stdout",
          "text": [
            "Counter is: 0\n",
            "Counter is: 1\n",
            "Counter is: 2\n",
            "Counter is: 3\n",
            "Counter is: 4\n"
          ]
        }
      ]
    },
    {
      "cell_type": "code",
      "source": [
        "\n",
        "numbers: list = [1, 2, 3, 4, 5]\n",
        "for num in numbers:\n",
        "    print(\"Number is:\", num)"
      ],
      "metadata": {
        "colab": {
          "base_uri": "https://localhost:8080/"
        },
        "id": "v8cpVRlVwNa3",
        "outputId": "99fae316-a4da-478c-81df-0279e3e79683"
      },
      "execution_count": null,
      "outputs": [
        {
          "output_type": "stream",
          "name": "stdout",
          "text": [
            "Number is: 1\n",
            "Number is: 2\n",
            "Number is: 3\n",
            "Number is: 4\n",
            "Number is: 5\n"
          ]
        }
      ]
    },
    {
      "cell_type": "code",
      "source": [
        "for i in range(5):\n",
        "    if i == 3:\n",
        "        break\n",
        "    print(i)"
      ],
      "metadata": {
        "colab": {
          "base_uri": "https://localhost:8080/"
        },
        "id": "QsspX3a_wb0I",
        "outputId": "29b457a1-1620-4276-ef26-27e46efc0b1f"
      },
      "execution_count": null,
      "outputs": [
        {
          "output_type": "stream",
          "name": "stdout",
          "text": [
            "0\n",
            "1\n",
            "2\n"
          ]
        }
      ]
    },
    {
      "cell_type": "code",
      "source": [
        "name: str = input(\"Enter your name: \")\n",
        "print(\"Hello,\", name)"
      ],
      "metadata": {
        "colab": {
          "base_uri": "https://localhost:8080/"
        },
        "id": "JH2SD4n-xAAl",
        "outputId": "42a50a2c-8cae-48cd-eb90-e6641306ec64"
      },
      "execution_count": null,
      "outputs": [
        {
          "output_type": "stream",
          "name": "stdout",
          "text": [
            "Enter your name: navaal\n",
            "Hello, navaal\n"
          ]
        }
      ]
    },
    {
      "cell_type": "code",
      "source": [
        "import sys\n",
        "arguments: list = sys.argv\n",
        "print(\"Script Name:\", arguments[0])\n",
        "print(\"First Argument:\", arguments[1])"
      ],
      "metadata": {
        "colab": {
          "base_uri": "https://localhost:8080/"
        },
        "id": "8RV_8gjyxalA",
        "outputId": "a52c5153-7ab7-4d1d-e0dd-f413a054888e"
      },
      "execution_count": null,
      "outputs": [
        {
          "output_type": "stream",
          "name": "stdout",
          "text": [
            "Script Name: /usr/local/lib/python3.10/dist-packages/colab_kernel_launcher.py\n",
            "First Argument: -f\n"
          ]
        }
      ]
    },
    {
      "cell_type": "code",
      "source": [
        "def print_key_values(**kwargs: str) -> None:\n",
        "    for key, value in kwargs.items():\n",
        "        print(f\"{key}: {value}\")\n",
        "\n",
        "print_key_values(name=\"John\", age=\"30\", country=\"USA\")"
      ],
      "metadata": {
        "colab": {
          "base_uri": "https://localhost:8080/"
        },
        "id": "wyxcVfLf8ovQ",
        "outputId": "2a86b5dd-e459-446b-dd3d-e04d932526c8"
      },
      "execution_count": null,
      "outputs": [
        {
          "output_type": "stream",
          "name": "stdout",
          "text": [
            "name: John\n",
            "age: 30\n",
            "country: USA\n"
          ]
        }
      ]
    }
  ]
}
{
  "nbformat": 4,
  "nbformat_minor": 0,
  "metadata": {
    "colab": {
      "provenance": []
    },
    "kernelspec": {
      "name": "python3",
      "display_name": "Python 3"
    },
    "language_info": {
      "name": "python"
    }
  },
  "cells": [
    {
      "cell_type": "code",
      "execution_count": 9,
      "metadata": {
        "colab": {
          "base_uri": "https://localhost:8080/"
        },
        "id": "k5jC2fGMST9O",
        "outputId": "e6735bd9-7f60-42ef-f5ae-c743c2143849"
      },
      "outputs": [
        {
          "output_type": "stream",
          "name": "stdout",
          "text": [
            "Student Card\n",
            "Student name = Alexa\n",
            "Father name = David\n",
            "Age = 23\n",
            "Education = Data Science\n"
          ]
        }
      ],
      "source": [
        "name:str = \"Alexa\"\n",
        "fname:str = \"David\"\n",
        "age:int = \"23\"\n",
        "education:str = \"Data Science\"\n",
        "card:str= f\"\"\"Student Card\n",
        "Student name = {name}\n",
        "Father name = {fname}\n",
        "Age = {age}\n",
        "Education = {education}\"\"\"\n",
        "\n",
        "print(card)"
      ]
    },
    {
      "cell_type": "code",
      "source": [
        "name:str = \"Alexa\"\n",
        "fname:str = \"David\"\n",
        "age:int = \"23\"\n",
        "education:str = \"Data Science\"\n",
        "card:str= \"\"\"Student Card\n",
        "Student name = {}\n",
        "Father name = {}\n",
        "Age = {}\n",
        "Education = {}\"\"\".format(name, fname, age, education)\n",
        "\n",
        "print(card)"
      ],
      "metadata": {
        "colab": {
          "base_uri": "https://localhost:8080/"
        },
        "id": "MHjqNMSVYshY",
        "outputId": "4419f377-7144-4913-d139-efcd1543980b"
      },
      "execution_count": 11,
      "outputs": [
        {
          "output_type": "stream",
          "name": "stdout",
          "text": [
            "Student Card\n",
            "Student name = Alexa\n",
            "Father name = David\n",
            "Age = 23\n",
            "Education = Data Science\n"
          ]
        }
      ]
    },
    {
      "cell_type": "code",
      "source": [
        "name:str = \"Alexa\"\n",
        "fname:str = \"David\"\n",
        "age:int = \"23\"\n",
        "education:str = \"Data Science\"\n",
        "card= \"\"\"Student Card\n",
        "Student name = {1}\n",
        "Father name = {0}\n",
        "Age = {2}\n",
        "Education = {3}\"\"\".format(fname, name, age, education)\n",
        "print(card)"
      ],
      "metadata": {
        "colab": {
          "base_uri": "https://localhost:8080/"
        },
        "id": "Z0g06m0rZ_B-",
        "outputId": "d0b93577-93d9-43e3-e74b-98070b4f63e2"
      },
      "execution_count": 18,
      "outputs": [
        {
          "output_type": "stream",
          "name": "stdout",
          "text": [
            "Student Card\n",
            "Student name = Alexa\n",
            "Father name = David\n",
            "Age = 23\n",
            "Education = Data Science\n"
          ]
        }
      ]
    },
    {
      "cell_type": "code",
      "source": [
        "name:str = \"Alexa David\"\n",
        "\n",
        "print(name.lower())"
      ],
      "metadata": {
        "colab": {
          "base_uri": "https://localhost:8080/"
        },
        "id": "1Unqc5_BbQnP",
        "outputId": "e007f8f6-2e1e-42da-c07c-0355fb3e8800"
      },
      "execution_count": 20,
      "outputs": [
        {
          "output_type": "stream",
          "name": "stdout",
          "text": [
            "alexa david\n"
          ]
        }
      ]
    },
    {
      "cell_type": "code",
      "source": [
        "name:str = \"Alexa David\"\n",
        "\n",
        "print(name.upper())"
      ],
      "metadata": {
        "colab": {
          "base_uri": "https://localhost:8080/"
        },
        "id": "vZyDcl8rbeCb",
        "outputId": "05643c50-1c8a-4831-cf14-8e2735f74ab4"
      },
      "execution_count": 21,
      "outputs": [
        {
          "output_type": "stream",
          "name": "stdout",
          "text": [
            "ALEXA DAVID\n"
          ]
        }
      ]
    },
    {
      "cell_type": "code",
      "source": [
        "name:str = \"Alexa David\"\n",
        "\n",
        "print(name.capitalize())"
      ],
      "metadata": {
        "colab": {
          "base_uri": "https://localhost:8080/"
        },
        "id": "M5OsaiT6bghT",
        "outputId": "0c2998d8-dd6c-44c8-fc10-a68112972247"
      },
      "execution_count": 23,
      "outputs": [
        {
          "output_type": "stream",
          "name": "stdout",
          "text": [
            "Alexa david\n"
          ]
        }
      ]
    },
    {
      "cell_type": "code",
      "source": [
        "name:str = \"Alexa David\"\n",
        "\n",
        "print(name.casefold())"
      ],
      "metadata": {
        "colab": {
          "base_uri": "https://localhost:8080/"
        },
        "id": "Wm4XxdsUbo4w",
        "outputId": "b969f76a-1140-423a-dd2d-04aa785343c4"
      },
      "execution_count": 24,
      "outputs": [
        {
          "output_type": "stream",
          "name": "stdout",
          "text": [
            "alexa david\n"
          ]
        }
      ]
    },
    {
      "cell_type": "code",
      "source": [
        "name:str = \"Alexa David\"\n",
        "\n",
        "print(name.strip())"
      ],
      "metadata": {
        "colab": {
          "base_uri": "https://localhost:8080/"
        },
        "id": "zxJZ7ImJbrh4",
        "outputId": "211f8a38-4424-44a0-c41f-cf5ed380d0c9"
      },
      "execution_count": 26,
      "outputs": [
        {
          "output_type": "stream",
          "name": "stdout",
          "text": [
            "Alexa David\n"
          ]
        }
      ]
    },
    {
      "cell_type": "code",
      "source": [
        "name:str = \"Alexa David\"\n",
        "display(name)\n",
        "display(name.rstrip())"
      ],
      "metadata": {
        "colab": {
          "base_uri": "https://localhost:8080/",
          "height": 54
        },
        "id": "PEZPASjGbz8n",
        "outputId": "ee31e594-c127-4b28-a268-9b940eeb19c7"
      },
      "execution_count": 32,
      "outputs": [
        {
          "output_type": "display_data",
          "data": {
            "text/plain": [
              "'Alexa David'"
            ],
            "application/vnd.google.colaboratory.intrinsic+json": {
              "type": "string"
            }
          },
          "metadata": {}
        },
        {
          "output_type": "display_data",
          "data": {
            "text/plain": [
              "'Alexa David'"
            ],
            "application/vnd.google.colaboratory.intrinsic+json": {
              "type": "string"
            }
          },
          "metadata": {}
        }
      ]
    },
    {
      "cell_type": "code",
      "source": [
        "name:str = \"Alexa David\"\n",
        "display (name)\n",
        "display(name.lstrip())"
      ],
      "metadata": {
        "colab": {
          "base_uri": "https://localhost:8080/",
          "height": 54
        },
        "id": "wepfOXD6b19f",
        "outputId": "af7eae1a-0d55-4443-b357-c0612211d4e9"
      },
      "execution_count": 31,
      "outputs": [
        {
          "output_type": "display_data",
          "data": {
            "text/plain": [
              "'Alexa David'"
            ],
            "application/vnd.google.colaboratory.intrinsic+json": {
              "type": "string"
            }
          },
          "metadata": {}
        },
        {
          "output_type": "display_data",
          "data": {
            "text/plain": [
              "'Alexa David'"
            ],
            "application/vnd.google.colaboratory.intrinsic+json": {
              "type": "string"
            }
          },
          "metadata": {}
        }
      ]
    },
    {
      "cell_type": "code",
      "source": [
        "website_url:str = \"https://www.google.com/\"\n",
        "website_url.removeprefix('https://')\n",
        "print(website_url)"
      ],
      "metadata": {
        "colab": {
          "base_uri": "https://localhost:8080/"
        },
        "id": "AttufMbLcnvk",
        "outputId": "80c92ed9-5ff5-4ada-f96b-05e5762f300b"
      },
      "execution_count": 33,
      "outputs": [
        {
          "output_type": "stream",
          "name": "stdout",
          "text": [
            "https://www.google.com/\n"
          ]
        }
      ]
    }
  ]
}